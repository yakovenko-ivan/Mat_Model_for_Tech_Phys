{
 "cells": [
  {
   "cell_type": "markdown",
   "metadata": {},
   "source": [
    "# Лекция 1\n",
    "\n",
    "## Конечно-разностные схемы. \n",
    "## Часть 1\n"
   ]
  },
  {
   "cell_type": "markdown",
   "metadata": {},
   "source": [
    "&nbsp; Первым направлением, в котором мы будем двигаться в рамках данного курса, будет изучение конечно-разностных методов решения уравнений в частных производных, основанных на конечно-разностном приближении производных. Методы данного класса достаточно просты в реализации и позволяют наглядно продемонстировать ключевые понятия численных подходов к решению уравнений в частных производных. Несмотря на свою простоту конечно-разностные методы до сих пор находят свое применение при решении широкого класса задач математического моделирования физических процессов."
   ]
  },
  {
   "cell_type": "markdown",
   "metadata": {},
   "source": [
    "### 1. Конечно-разностная аппроксимация производных"
   ]
  },
  {
   "cell_type": "markdown",
   "metadata": {},
   "source": [
    "&nbsp; Задачей настоящего курса является знакомство с методами приближенного решения дифференциальных уравнений, то есть нахождения функции (или её приближения), которая бы удовлетворяла заданным взаимосвязям между её производными в некоторой заданной области пространства и/или времени, а также граничным условиям. Нахождение точного решения дифференциального уравнения возможно лишь в редких случаях. Одним из подходов к решению дифференциальных уравнений является конечно-разностный подход. В рамках данного подхода производные в дифференциальных уравнениях заменяются конечно-разностными аппроксимациями. В результате получается большая, но конечная система алгебраических уравнений. Таким образом решение дифференциального уравнения сводится к решению системы алгебраических уравнений, что легко может быть выполнено с помощью компьютера. \n",
    "\n",
    "&nbsp; Для того, чтобы начать изучение конечно-разностных методов необходимо, в первую очередь, познакомится с понятием конечно-разностной аппроксимации производной. Пусть $u(x)$ представляет собой функцию одной переменной, которая подразумевается гладкой, дифференцируемой требуемое количество раз и каждая из производных определена и ограничена на интервале, содержащем интересующую нас точку с координатой $\\bar x$. Предположим, что нам необходимо найти приближение производной $u'(\\bar x)$, используя конечное число известных значений фунции в окрестности точки $\\bar x$. Наиболее очевидным способом нахождения производной будет использование следующего приближенного выражения:\n",
    "\n",
    "\\begin{equation}\n",
    "D_+u(\\bar x) \\equiv \\frac{u(\\bar x + h)-u(\\bar x)}{h}\n",
    "\\label{eq:forward_diff}\n",
    "\\end{equation}\n",
    "\n",
    "для малого значения $h$. При стремлении $h \\to 0$ данное выражение представляет собой стандартное определение производной. При этом, $D_+u(\\bar x)$ есть ничто иное как угол наклона прямой проведенной через точки $u(\\bar x)$ и $u(\\bar x + h)$.\n",
    "\n",
    "&nbsp; Выражение $\\eqref{eq:forward_diff}$ представляет собой *одностороннюю аппроксимацию* $u'$ в точке $\\bar x$, так как в неё входят значения $x$ только справа от $\\bar x$, $x \\ge \\bar x$. Можно предложить и другую одностороннюю аппроксимацию:\n",
    "\n",
    "\\begin{equation}\n",
    "D_-u(\\bar x) \\equiv \\frac{u(\\bar x)-u(\\bar x - h)}{h}\n",
    "\\label{eq:backward_diff}\n",
    "\\end{equation}\n",
    "\n",
    "&nbsp; Обе односторонние аппроксимации $\\eqref{eq:forward_diff}$ и $\\eqref{eq:backward_diff}$ имеют *первый порядок точности* приближения производной $u'$, что означает, что величина ошибки аппроксимации пропорциональна значению $h$. \n",
    "\n",
    "&nbsp; Другой возможностью является использование *центральной аппроксимации*:\n",
    "\n",
    "\\begin{equation}\n",
    "D_0u(\\bar x) \\equiv \\frac{u(\\bar x + h)-u(\\bar x - h)}{2h} = \\frac{1}{2}\\left(D_+u(\\bar x) + D_-u(\\bar x) \\right)\n",
    "\\label{eq:centered_diff}\n",
    "\\end{equation}\n",
    "\n",
    "&nbsp; Данное выражение определяет угол наклона линии проведенной через точки $u(\\bar x - h)$ и $u(\\bar x + h)$, который, как не сложно видеть из [Рисунка 1](#figure1), является среним арифметическим от двух односторонних аппроксимаций приведенных выше. Из рисунка можно также заметить, что угол наклона секущей $D_0u(\\bar x)$ лучше соответствует углу наклона касательной к графику функции $u(x)$ в точке $\\bar x$, а значит выражение $\\eqref{eq:centered_diff}$ позволяет получить более точную аппроксимацию производной $u'$, чем выражения $\\eqref{eq:forward_diff}$ и $\\eqref{eq:backward_diff}$. Действительно, центральная разность $\\eqref{eq:centered_diff}$ имеет второй порядок точности, ошибка аппроксимации пропорциональна $h^2$, и с уменьшением $h$ убывает гораздо быстрее, чем для односторонних аппроксимаций первого порядка точности."
   ]
  },
  {
   "cell_type": "markdown",
   "metadata": {},
   "source": [
    "<a id = \"figure1\"></a>\n",
    "\n",
    "<img src=\"Pic1.jpg\" alt=\"drawing\" width=\"600\"/>\n",
    "\n",
    "<center> Рисунок 1. Конечно-разностные аппроксимации производной $u'(\\bar x)$. </center>"
   ]
  },
  {
   "cell_type": "markdown",
   "metadata": {},
   "source": [
    "&nbsp; Кроме представленных выше вариантов аппроксимации производной возможны и многие другие. К примеру выражение\n",
    "\n",
    "\\begin{equation}\n",
    "D_3u(\\bar x) \\equiv \\frac{1}{6h} \\left( 2u(\\bar x + h) + 3u(\\bar x) - 6u(\\bar x - h) + u(\\bar x - 2h) \\right)\n",
    "\\label{eq:thirdorder_diff}\n",
    "\\end{equation}\n",
    "\n",
    "аппроксимирует производную $u'(\\bar x)$ с третьим порядком точности - при малых $h$ ошибка пропорциональна $h^3$. Ниже мы рассмотрим подходы к нахождению конечно-разностных аппроксимаций с заданным порядком точности и шаблоном, сейчас же проанализируем ошибки аппроксимации получаемые при использовании выражений $\\eqref{eq:forward_diff}$ - $\\eqref{eq:thirdorder_diff}$."
   ]
  },
  {
   "cell_type": "markdown",
   "metadata": {},
   "source": [
    "<a id = \"example_1\"></a>\n",
    "#### Пример 1. \n",
    "> Пусть $u(x)=\\mathrm{sin}(5x)$ и мы хотим отыскать производную в точке $\\bar x = 1$. Зная функцию мы можем найти аналитическое выражение для производной. \n",
    "\n",
    "Воспользуемся для этого возможностями символьных вычислений библиотеки **SymPy**. Загрузим сначала все модули, необходимые для нахождения производной. "
   ]
  },
  {
   "cell_type": "code",
   "execution_count": 1,
   "metadata": {},
   "outputs": [],
   "source": [
    "from sympy import sin         # символьная реализация функции sin(x)\n",
    "from sympy import (symbols,   # символы для вычислений\n",
    "diff,                         # операции символьного дифференцирования\n",
    "lambdify                      # преобразование символьных выражений в функции python\n",
    ")"
   ]
  },
  {
   "cell_type": "markdown",
   "metadata": {},
   "source": [
    "&nbsp; Далее, зададим символьный вид независимой переменной с помощью функции [`symbols`](https://docs.sympy.org/latest/tutorial/gotchas.html#symbols) и далее найдем производную от функции $u(x)=\\mathrm{sin}(5x)$ с помощью функции [`diff`](https://docs.sympy.org/latest/tutorial/calculus.html#derivatives)."
   ]
  },
  {
   "cell_type": "code",
   "execution_count": 2,
   "metadata": {},
   "outputs": [
    {
     "data": {
      "text/latex": [
       "$\\displaystyle 5 \\cos{\\left(5 x \\right)}$"
      ],
      "text/plain": [
       "5*cos(5*x)"
      ]
     },
     "execution_count": 2,
     "metadata": {},
     "output_type": "execute_result"
    }
   ],
   "source": [
    "x    = symbols('x')    # символ независимой пременной x\n",
    "func = sin(5*x)        # исследуемая функция\n",
    "\n",
    "deriv = diff(func,x)   # производная от исследуемой функции\n",
    "deriv"
   ]
  },
  {
   "cell_type": "markdown",
   "metadata": {
    "variables": {
     "deriv": "$\\displaystyle 5 \\cos{\\left(5 x \\right)}$",
     "func": "$\\displaystyle \\sin{\\left(5 x \\right)}$"
    }
   },
   "source": [
    "&nbsp; Итак, после выполнения операции дифференцирования, в переменной `deriv` мы получили в символьном виде производную функции $\\mathrm{sin}(5𝑥)$, $u'(x) = 5\\mathrm{cos}(5𝑥)$. Для нахождения производной от функции в точке, нам необходимо преобразовать символьное выражение `deriv` в вычисляемый вид. Для этого воспользуемся функцией пакета **SymPy** [`lambdify`](https://docs.sympy.org/latest/modules/utilities/lambdify.html). "
   ]
  },
  {
   "cell_type": "code",
   "execution_count": 3,
   "metadata": {},
   "outputs": [
    {
     "data": {
      "text/plain": [
       "1.4183109273161312"
      ]
     },
     "execution_count": 3,
     "metadata": {},
     "output_type": "execute_result"
    }
   ],
   "source": [
    "deriv = lambdify(x,diff(func,x))  # перобразование производной из символьного вида \n",
    "                                  # в функцию python\n",
    "\n",
    "x_bar = 1.0                       # координата x_bar в которой необходимо вычислить производную\n",
    "deriv_value = deriv(x_bar)        # расчет производной в точке x_bar \n",
    "deriv_value"
   ]
  },
  {
   "cell_type": "markdown",
   "metadata": {
    "variables": {
     "deriv_value": "1.4183109273161312"
    }
   },
   "source": [
    "&nbsp; Итак, мы получили точное значение производной $u'(1) = 1.4183109273161312$. \n",
    "\n",
    "&nbsp; Теперь воспользуемся приближенными формулами для вычисления производной и проанализируем, как ведет себя ошибка при их использовании при уменьшении величины $h$. Преобразуем функцию $u(x)=\\mathrm{sin}(5x)$ в функцию python и напишем процедуры, выполняющие аппроксимации $\\eqref{eq:forward_diff}$ - $\\eqref{eq:thirdorder_diff}$. "
   ]
  },
  {
   "cell_type": "code",
   "execution_count": 4,
   "metadata": {},
   "outputs": [],
   "source": [
    "func = lambdify(x,sin(5*x))       # перобразование функции sin(5x) из символьного вида в функцию python\n",
    "\n",
    "def forward_difference(h,x):      # процедура аппроксимирующая u`(x) односторонней разностью (1)\n",
    "    deriv_approximation = (func(x+h)-func(x))/h\n",
    "    return(deriv_approximation)\n",
    "def backward_difference(h,x):     # процедура аппроксимирующая u`(x) односторонней разностью (2)\n",
    "    deriv_approximation = (func(x)-func(x-h))/h\n",
    "    return(deriv_approximation)\n",
    "def centered_difference(h,x):     # процедура аппроксимирующая u`(x) центральной разностью (3)\n",
    "    deriv_approximation = (func(x+h)-func(x-h))/(2*h)\n",
    "    return(deriv_approximation)  \n",
    "def thirdorder_difference(h,x):   # процедура аппроксимирующая u`(x) разностью третьего порядка (4)\n",
    "    deriv_approximation = (2*func(x+h)+3*func(x)-6*func(x-h)+func(x-2*h))/(6*h)\n",
    "    return(deriv_approximation)  "
   ]
  },
  {
   "cell_type": "markdown",
   "metadata": {},
   "source": [
    "Теперь, мы можем воспользоваться разработанными функциями, чтобы вычислить производные с различными значениями $h$. Абсолютная ошибка аппроксимации найдется как разница между приближенным значением производной и точным значением `deriv_value`, вычисленным ранее. "
   ]
  },
  {
   "cell_type": "code",
   "execution_count": 5,
   "metadata": {},
   "outputs": [],
   "source": [
    "deriv_approximation = [[0 for x in range(10)] for y in range(4)]   # создадим лист python для приближений \n",
    "                                                                   # (deriv_approximation)\n",
    "error = [[0 for x in range(10)] for y in range(4)]                 # создадим лист python для ошибок (error)\n",
    "h = [0 for x in range(10)]                           # лист python для шагов (h)\n",
    "\n",
    "h[0] = 1.0e-01                                       # начальное значение h\n",
    "for i in range (0,10):\n",
    "    h[i]        = h[0]/(2.0**i)                      # каждую итерацию уменьшаем h в два раза\n",
    "    deriv_approximation[0][i] = forward_difference(h[i],x_bar)\n",
    "    deriv_approximation[1][i] = backward_difference(h[i],x_bar)\n",
    "    deriv_approximation[2][i] = centered_difference(h[i],x_bar)\n",
    "    deriv_approximation[3][i] = thirdorder_difference(h[i],x_bar)\n",
    "    \n",
    "error = abs(deriv_approximation - deriv_value)       # находим абсолютное значение ошибки"
   ]
  },
  {
   "cell_type": "markdown",
   "metadata": {},
   "source": [
    "&nbsp; Полученное абсолютное значение ошибки `error` можно представить в виде `HTML` таблицы. Для этого воспользуемся модулем [`IPython.display`](https://ipython.readthedocs.io/en/stable/api/generated/IPython.display.html):"
   ]
  },
  {
   "cell_type": "code",
   "execution_count": 6,
   "metadata": {},
   "outputs": [
    {
     "data": {
      "text/html": [
       "<table>\n",
       "<thead>\n",
       "<tr><th style=\"text-align: center;\">  $h$   </th><th style=\"text-align: right;\">  $D_+(x)$</th><th style=\"text-align: right;\">  $D_-(x)$</th><th style=\"text-align: right;\">  $D_0(x)$</th><th style=\"text-align: right;\">  $D_3(x)$</th></tr>\n",
       "</thead>\n",
       "<tbody>\n",
       "<tr><td style=\"text-align: center;\">1.00e-01</td><td style=\"text-align: right;\">  1.12e+00</td><td style=\"text-align: right;\">  1.23e+00</td><td style=\"text-align: right;\">  5.84e-02</td><td style=\"text-align: right;\">  5.08e-02</td></tr>\n",
       "<tr><td style=\"text-align: center;\">6.25e-03</td><td style=\"text-align: right;\">  7.47e-02</td><td style=\"text-align: right;\">  7.51e-02</td><td style=\"text-align: right;\">  2.31e-04</td><td style=\"text-align: right;\">  1.22e-05</td></tr>\n",
       "<tr><td style=\"text-align: center;\">3.91e-04</td><td style=\"text-align: right;\">  4.68e-03</td><td style=\"text-align: right;\">  4.68e-03</td><td style=\"text-align: right;\">  9.02e-07</td><td style=\"text-align: right;\">  2.98e-09</td></tr>\n",
       "</tbody>\n",
       "</table>"
      ],
      "text/plain": [
       "<IPython.core.display.HTML object>"
      ]
     },
     "metadata": {},
     "output_type": "display_data"
    }
   ],
   "source": [
    "from IPython.display import HTML, display\n",
    "import tabulate\n",
    "\n",
    "table = [[0 for x in range(5)] for y in range(3)]    # таблица для вывода отдельных значений ошибки\n",
    "for i in range (0,3):\n",
    "    table[i][0] = h[4*i]\n",
    "    table[i][1] = error[0][4*i]\n",
    "    table[i][2] = error[1][4*i]\n",
    "    table[i][3] = error[2][4*i]\n",
    "    table[i][4] = error[3][4*i]\n",
    "\n",
    "display(HTML(tabulate.tabulate(table, tablefmt=\"html\", floatfmt=\".2e\", colalign=(\"center\",), headers=['$h$','$D_+(x)$','$D_-(x)$','$D_0(x)$','$D_3(x)$'])))\n"
   ]
  },
  {
   "cell_type": "markdown",
   "metadata": {},
   "source": [
    "&nbsp; Как и предполагалось, ошибка убывает быстрее всего с уменьшением $h$ при использовании выражения третьего порядка точности $D_3(x)$ $\\eqref{eq:thirdorder_diff}$. "
   ]
  },
  {
   "cell_type": "markdown",
   "metadata": {},
   "source": [
    "&nbsp; Зависимость абсолютного значения ошибки от $h$ можно изобразить на графике в логарифмических координатах (код приводится без комментариев, с возможностями пакета matplotlib читатель может ознакомиться из официальной [документации](https://matplotlib.org/contents.html) и [примеров](https://matplotlib.org/gallery/index.html)):"
   ]
  },
  {
   "cell_type": "code",
   "execution_count": 7,
   "metadata": {},
   "outputs": [
    {
     "name": "stderr",
     "output_type": "stream",
     "text": [
      "findfont: Font family ['Alegreya Sans'] not found. Falling back to DejaVu Sans.\n"
     ]
    },
    {
     "data": {
      "image/png": "[encoded data removed]",
      "text/plain": [
       "<Figure size 720x432 with 1 Axes>"
      ]
     },
     "metadata": {
      "needs_background": "light"
     },
     "output_type": "display_data"
    }
   ],
   "source": [
    "from numpy import linspace\n",
    "import matplotlib.pyplot as plt\n",
    "\n",
    "fig, ax = plt.subplots(figsize=(10, 6))\n",
    "\n",
    "ax.set_title('Зависимость абсолютного \\n значения ошибки $|E(h)|$ от $h$', fontsize = 25,**{'fontname':'Alegreya Sans'}, fontweight='bold',style='italic')\n",
    "\n",
    "plt.plot(h, error[0][:],'r')\n",
    "plt.plot(h, error[1][:],'r-o', markeredgecolor='black', linewidth=3,markersize=8)\n",
    "plt.plot(h, error[2][:],'b-o', markeredgecolor='black', linewidth=3,markersize=8)\n",
    "plt.plot(h, error[3][:],'g-o', markeredgecolor='black', linewidth=3,markersize=8)\n",
    "\n",
    "plt.text(0.00025, 3e-02, '$D_-(x)/D_+(x)$',fontsize = 20,color='r')\n",
    "plt.text(0.00025, 4e-06, '$D_0(x)$',fontsize = 20,color='b')\n",
    "plt.text(0.00025, 1e-08, '$D_3(x)$',fontsize = 20,color='g')\n",
    "\n",
    "plt.xticks(fontsize=15)\n",
    "plt.yticks(fontsize=15)\n",
    "\n",
    "plt.xscale('log')\n",
    "plt.yscale('log')\n",
    "\n",
    "ax.set_ylabel(\"$|E(h)|$\",fontsize = 25,**{'fontname':'Alegreya Sans'}, fontweight='bold',style='italic')\n",
    "ax.set_xlabel(\"$h$\",fontsize = 25,**{'fontname':'Alegreya Sans'}, fontweight='bold',style='italic')\n",
    "plt.show()"
   ]
  },
  {
   "cell_type": "markdown",
   "metadata": {},
   "source": [
    "&nbsp; Графики зависимости абсолютной ошибки от величины $h$ представляют собой линии в логарифмических координатах. Как было указано выше, ошибка получаемая при использовании разных аппроксимаций производной пропроциональна разным степеням $h$:\n",
    "\n",
    "\\begin{equation}\n",
    "E(h) \\approx C h^p\n",
    "\\label{eq:error}\n",
    "\\end{equation}\n",
    "\n",
    "&nbsp; Тогда логарифмируя получим:\n",
    "\n",
    "\\begin{equation}\n",
    "\\mathrm{log}|E(h)| \\approx \\mathrm{log}|C| + p \\mathrm{log} h\n",
    "\\label{eq:log_error}\n",
    "\\end{equation}\n",
    "\n",
    "&nbsp; Таким образом, в log-log системе координат зависимость ошибки от шага представляет собой прямую, что и было продемонстировано на рисунке выше. Cтепень $p$ в $\\eqref{eq:error}$ называется *порядком точности*. Вычислим порядки точности для различных аппроксимаций: "
   ]
  },
  {
   "cell_type": "code",
   "execution_count": 8,
   "metadata": {
    "scrolled": true
   },
   "outputs": [
    {
     "data": {
      "text/plain": [
       "(0.9399143241436873, 1.0121937849270617, 1.986469731783887, 2.9965116124550306)"
      ]
     },
     "execution_count": 8,
     "metadata": {},
     "output_type": "execute_result"
    }
   ],
   "source": [
    "from numpy import log\n",
    "\n",
    "p_forward    = (log(error[0][1])-log(error[0][0]))/(log(h[1])-log(h[0]))\n",
    "p_backward   = (log(error[1][1])-log(error[1][0]))/(log(h[1])-log(h[0]))\n",
    "p_centered   = (log(error[2][1])-log(error[2][0]))/(log(h[1])-log(h[0]))\n",
    "p_thirdorder = (log(error[3][1])-log(error[3][0]))/(log(h[1])-log(h[0]))\n",
    "(p_forward, p_backward, p_centered, p_thirdorder)"
   ]
  },
  {
   "cell_type": "markdown",
   "metadata": {},
   "source": [
    "&nbsp; Итак, для односторонних разностей $D_+(x)$ и $D_-(x)$ порядок точности $p$ составляет  соответственно 9.40e-01 и 1.01e+00. Как и предполагалось, полученные значения близки к 1. Для центральной разности $D_0(x)$ порядок точности 1.99e+00, для разности третьего порядка $D_3(x)$ порядок точности 3.00e+00."
   ]
  },
  {
   "cell_type": "markdown",
   "metadata": {},
   "source": [
    "### 2. Ошибки округления"
   ]
  },
  {
   "cell_type": "markdown",
   "metadata": {},
   "source": [
    "&nbsp; В данном разделе мы обоснуем эмпирические результаты, полученные выше. Стандартным подходом к анализу ошибки конечно-разностной аппроксимации является представление функции в ряде степенного ряда Тейлора в окрестности точки $\\bar x$, к примеру:\n",
    "\\begin{equation}\n",
    "u(\\bar x + h) = u(\\bar x) + h u'(\\bar x) + \\frac{1}{2}h^2 u''(\\bar x) + \\frac{1}{6}h^3 u'''(\\bar x) + O(h^4)\n",
    "\\label{eq:taylor_forward}\n",
    "\\end{equation}\n",
    "\\begin{equation}\n",
    "u(\\bar x - h) = u(\\bar x) - h u'(\\bar x) + \\frac{1}{2}h^2 u''(\\bar x) - \\frac{1}{6}h^3 u'''(\\bar x) + O(h^4)\n",
    "\\label{eq:taylor_backward}\n",
    "\\end{equation}\n",
    "\n",
    "&nbsp; Данные разложения справедливы, в том случае если функция $u(x)$ достаточно гладкая вблизи $\\bar x$. Небольшое напоминание о нотации $O(h)$ и $o(h)$ приведено в приложении второй части Лекции 1. В дальнейшем мы будем интенсивно использовать эту нотацию. \n",
    "    Используя $\\eqref{eq:taylor_forward}$ можно вычислить разность $\\eqref{eq:forward_diff}$:\n",
    "    \n",
    "\\begin{equation*}\n",
    "D_+u(\\bar x) = \\frac{u(\\bar x + h) - u(\\bar x)}{h} = u'(\\bar x) + \\frac{1}{2} h u''(\\bar x) + \\frac{1}{6} h^2 u'''(\\bar x) + O(h^3)\n",
    "\\end{equation*}\n",
    "\n",
    "&nbsp; Соответственно ошибка аппроксимации $u'(\\bar x)$ равна:\n",
    "\\begin{equation*}\n",
    "D_+u(\\bar x) - u'(\\bar x) = \\frac{1}{2} h u''(\\bar x) + \\frac{1}{6} h^2 u'''(\\bar x) + O(h^3)\n",
    "\\end{equation*}\n",
    "\n",
    "$u''(\\bar x)$, $u'''(\\bar x)$ и другие значения производных в точке $\\bar x$ являются константами, не зависящими от $h$. Для малых $h$ ошибка будет определяться первым слагаемым $\\frac{1}{2} h u''(\\bar x)$, остальные слагаемые будут меньше, так как зависят от более высоких степеней $h$. Таким образом, для $D_+u(\\bar x)$ ошибка равна произведению константы на $h$, причем значение этой константы примерно равно $\\frac{1}{2} h u''(\\bar x)$.  \n",
    "\n",
    "---\n",
    "\n",
    "#### Задача 1. \n",
    "> Найдите константу $С$ в оценке абсолютной ошибки $\\eqref{eq:error}$ для аппроксимации $D_+u(\\bar x)$. Проверьте, соответствует ли она $\\frac{1}{2} u''(\\bar x)$ для функции $u(x)=\\mathrm{sin}(5x)$, $\\bar x = 1$ из [Примера 1](#example_1). Между полученными значениями могут быть небольшие расхождения. Почему?\n",
    "\n",
    "---\n",
    "\n",
    "&nbsp; Для $D_-u(\\bar x)$ аналогичные выкладки на основе $\\eqref{eq:taylor_backward}$ позволяют получить следующее выражение для ошибки:\n",
    "\n",
    "\\begin{equation*}\n",
    "D_-u(\\bar x) - u'(\\bar x) = -\\frac{1}{2} h u''(\\bar x) + \\frac{1}{6} h^2 u'''(\\bar x) + O(h^3)\n",
    "\\end{equation*}\n",
    "\n",
    "что также соотвествует нашим наблюдениям.\n",
    "\n",
    "&nbsp; Складывая $\\eqref{eq:taylor_forward}$ и $\\eqref{eq:taylor_backward}$ получим\n",
    "\n",
    "\\begin{equation*}\n",
    "u(\\bar x + h) - u'(\\bar x - h) = 2 h u'(\\bar x) + \\frac{1}{3} h^3 u'''(\\bar x) + O(h^5)\n",
    "\\end{equation*}\n",
    "\n",
    "откуда\n",
    "\\begin{equation*}\n",
    "D_0u(\\bar x) - u'(\\bar x) = \\frac{1}{6} h^2 u'''(\\bar x) + O(h^4)\n",
    "\\end{equation*}\n",
    "\n",
    "что подтверждает второй порядок точности формулы центральной разности. \n",
    "\n",
    "---\n",
    "\n",
    "#### Задача 2.\n",
    "> Используя $\\eqref{eq:taylor_forward}$ и $\\eqref{eq:taylor_backward}$ и разложение в ряд Тейлора для $u(\\bar x - 2h)$, докажите, что формула $D_3u(\\bar x)$ $\\eqref{eq:thirdorder_diff}$ аппроксимирует производную функции $u(\\bar x)$ с третьим порядком точности.  \n",
    "\n",
    "---"
   ]
  },
  {
   "cell_type": "markdown",
   "metadata": {},
   "source": [
    "---\n",
    "**Ячейка снизу загружает стилевую конфигурацию блокнота.**"
   ]
  },
  {
   "cell_type": "code",
   "execution_count": 2,
   "metadata": {},
   "outputs": [
    {
     "data": {
      "text/html": [
       "<link href='http://fonts.googleapis.com/css?family=Alegreya+Sans:100,300,400,500,700,800,900,100italic,300italic,400italic,500italic,700italic,800italic,900italic' rel='stylesheet' type='text/css'>\n",
       "<link href='http://fonts.googleapis.com/css?family=Arvo:400,700,400italic' rel='stylesheet' type='text/css'>\n",
       "<link href='http://fonts.googleapis.com/css?family=PT+Mono' rel='stylesheet' type='text/css'>\n",
       "<link href='http://fonts.googleapis.com/css?family=Philosopher:400,700,400italic,700italic' rel='stylesheet' type='text/css'>\n",
       "<link href='http://fonts.googleapis.com/css?family=Monserrat:400,500&display=swap&subset=cyrillic' rel='stylesheet' type='text/css'>\n",
       "\n",
       "\n",
       "<style>\n",
       "\n",
       "/*#notebook_panel { /* main background */\n",
       "/*    background: #888;\n",
       "    color: #f6f6f6;\n",
       "}*/\n",
       "\n",
       "\n",
       "div.cell { /* set cell width to about 80 chars */\n",
       "    width: 1100px;\n",
       "}\n",
       "\n",
       "div #notebook { /* centre the content */\n",
       "    background: #f6f6f6; /* white background for content */\n",
       "    width: 1200px;\n",
       "    margin: auto;\n",
       "    padding-left: 1em;\n",
       "}\n",
       "\n",
       "#notebook li { /* More space between bullet points */\n",
       "margin-top:1.2em;\n",
       "}\n",
       "\n",
       "\n",
       "\n",
       "/* change markdown inline code style */\n",
       ".rendered_html code {\n",
       "  background-color: #d5eaff;\n",
       "  margin: 0px 2px;\n",
       "  font-family: 'Source Code Pro' sans-serif;\n",
       "  font-size: 12pt;\n",
       "  border: solid 0.5px white;\n",
       "  box-sizing: border-box;\n",
       "}\n",
       "/* change markdown code snipet style */\n",
       ".rendered_html pre code {\n",
       "  background-color: #f7f7f7;\n",
       "  font-size: 12pt;\n",
       "  font-family: 'Source Code Pro' sans-serif;\n",
       "}\n",
       "/* change markdown code snipet wrapper style */\n",
       ".rendered_html pre {\n",
       "  margin: 1em 2em;\n",
       "  padding: 0px;\n",
       "  background-color: #f7f7f7;\n",
       "  border-left: solid 5px #d5eaff;\n",
       "  padding-left: 5px;\n",
       "}\n",
       "\n",
       "/* draw border around running cells */\n",
       "div.cell.border-box-sizing.code_cell.running { \n",
       "    border: 3px solid #111;\n",
       "}\n",
       "\n",
       "/* Put a solid color box around each cell and its output, visually linking them together */\n",
       "div.cell.code_cell {\n",
       "\tfont-family: 'Source Code Pro' sans-serif;\n",
       "    background-color: #A3FFD2 ; /*  #AED2C6; */ \n",
       "    border-radius: 5px; /* rounded borders */\n",
       "    padding: 1em;\n",
       "    margin-top: 1em;\n",
       "}\n",
       "\n",
       "div.text_cell_render{\n",
       "    font-family: 'Alegreya Sans', sans-serif;\n",
       "    line-height: 130%;\n",
       "    font-size: 15pt;\n",
       "    width:900px;\n",
       "    margin-left:auto;\n",
       "    margin-right:auto;\n",
       "}\n",
       "\n",
       "\n",
       "/* Formatting for header cells */\n",
       ".text_cell_render h1 {\n",
       "    font-family: 'Philosopher', sans-serif;\n",
       "    font-weight: 400;\n",
       "    font-size: 40pt;\n",
       "    line-height: 100%;\n",
       "    color: rgb(12,85,97);\n",
       "    margin-bottom: 0.1em;\n",
       "    margin-top: 0.1em;\n",
       "    display: block;\n",
       "}\t\n",
       ".text_cell_render h2 {\n",
       "    font-family: 'Philosopher', serif;\n",
       "    font-weight: 700;\n",
       "    font-size: 30pt;\n",
       "    line-height: 100%;\n",
       "    color: rgb(171,165,131);\n",
       "    margin-bottom: 0.1em;\n",
       "    margin-top: 0.1em;\n",
       "    display: block;\n",
       "}\t\n",
       "\n",
       ".text_cell_render h3 {\n",
       "    font-family: 'Philosopher', serif;\n",
       "    font-size: 25pt;\n",
       "    margin-top:12px;\n",
       "    margin-bottom: 3px;\n",
       "    font-style: italic;\n",
       "    color: rgb(95,92,72);\n",
       "}\n",
       "\n",
       ".text_cell_render h4 {\n",
       "    font-family: 'Philosopher', serif;\n",
       "    font-size: 20pt;\n",
       "    color: #CD2305;\n",
       "}\n",
       "\n",
       ".text_cell_render h5 {\n",
       "    font-family: 'Alegreya Sans', sans-serif;\n",
       "    font-weight: 300;\n",
       "    font-size: 16pt;\n",
       "    color: #CD2305;\n",
       "    font-style: italic;\n",
       "    margin-bottom: .1em;\n",
       "    margin-top: 0.1em;\n",
       "    display: block;\n",
       "}\n",
       "\n",
       ".text_cell_render h6 {\n",
       "    font-family: 'PT Mono', sans-serif;\n",
       "    font-weight: 300;\n",
       "    font-size: 10pt;\n",
       "    color: grey;\n",
       "    margin-bottom: 1px;\n",
       "    margin-top: 1px;\n",
       "}\n",
       "\n",
       ".text_cell_render p {\n",
       "\tfont-family: 'Alegreya Sans', sans-serif;\n",
       "\tfont-size: 15pt;\n",
       "\tcolor: black;\n",
       "\ttext-align: justify;\n",
       "\ttext-justify: inter-word;\n",
       "}\n",
       "\n",
       ".rendered_html table, .rendered_html td, .rendered_html th {\n",
       "    font-size: 12pt;\n",
       "}\n",
       "\n",
       ".CodeMirror{\n",
       "    font-family: \"PT Mono\";\n",
       "    font-size: 100%;\n",
       "}\n",
       "\n",
       "</style>\n"
      ],
      "text/plain": [
       "<IPython.core.display.HTML object>"
      ]
     },
     "execution_count": 2,
     "metadata": {},
     "output_type": "execute_result"
    }
   ],
   "source": [
    "from IPython.core.display import HTML\n",
    "def css_styling():\n",
    "    styles = open(\"./custom.css\", \"r\").read()\n",
    "    return HTML(styles)\n",
    "css_styling()"
   ]
  },
  {
   "cell_type": "code",
   "execution_count": null,
   "metadata": {},
   "outputs": [],
   "source": []
  }
 ],
 "metadata": {
  "kernelspec": {
   "display_name": "Python 3",
   "language": "python",
   "name": "python3"
  },
  "language_info": {
   "codemirror_mode": {
    "name": "ipython",
    "version": 3
   },
   "file_extension": ".py",
   "mimetype": "text/x-python",
   "name": "python",
   "nbconvert_exporter": "python",
   "pygments_lexer": "ipython3",
   "version": "3.7.7"
  }
 },
 "nbformat": 4,
 "nbformat_minor": 2
}
